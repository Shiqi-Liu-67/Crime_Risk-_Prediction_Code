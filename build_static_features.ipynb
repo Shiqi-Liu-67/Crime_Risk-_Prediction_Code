{
 "cells": [
  {
   "cell_type": "code",
   "execution_count": 1,
   "id": "845272ed-1a87-45d4-8103-c185b832477b",
   "metadata": {},
   "outputs": [],
   "source": [
    "# build_static_features.py"
   ]
  },
  {
   "cell_type": "code",
   "execution_count": 2,
   "id": "b1278a43-70ac-43fb-94c2-2c6c482a64c1",
   "metadata": {},
   "outputs": [
    {
     "name": "stdout",
     "output_type": "stream",
     "text": [
      "IMD rows for London: 4,835\n",
      "4,835 unique LSOA codes saved ➜ london_lsoa_lookup.csv\n"
     ]
    }
   ],
   "source": [
    "from pathlib import Path\n",
    "import pandas as pd\n",
    "\n",
    "IMD_CSV =  \"IMD2019.csv\"\n",
    "\n",
    "# 1 | load IMD \n",
    "imd = pd.read_csv(IMD_CSV, dtype=str)\n",
    "\n",
    "# explicit column names from your screenshot\n",
    "lsoa_col = \"LSOA code (2011)\"\n",
    "lad_col  = \"Local Authority District code (2019)\"\n",
    "\n",
    "# 2 | list of London LAD codes\n",
    "london_lad = [f\"E090000{str(i).zfill(2)}\" for i in range(1, 34)]\n",
    "\n",
    "imd_london = imd[imd[lad_col].isin(london_lad)].copy()\n",
    "print(f\"IMD rows for London: {len(imd_london):,}\")\n",
    "\n",
    "# 3 | create and save lookup\n",
    "lookup_path = \"london_lsoa_lookup.csv\"\n",
    "(\n",
    "    imd_london[[lsoa_col]]\n",
    "    .rename(columns={lsoa_col: \"LSOA_Code\"})\n",
    "    .drop_duplicates()\n",
    "    .to_csv(lookup_path, index=False)\n",
    ")\n",
    "print(f\"{imd_london[lsoa_col].nunique():,} unique LSOA codes saved ➜ {lookup_path}\")"
   ]
  },
  {
   "cell_type": "code",
   "execution_count": 3,
   "id": "1b5b7d2f-5c1d-4033-ba09-f4e96a5e677b",
   "metadata": {},
   "outputs": [
    {
     "name": "stdout",
     "output_type": "stream",
     "text": [
      "Found columns: \n",
      "  child   4 → ['Age: Aged 4 years and under', 'Age: Aged 5 to 9 years', 'Age: Aged 10 to 14 years'] … \n",
      "  adult   9 → ['Age: Aged 20 to 24 years', 'Age: Aged 25 to 29 years', 'Age: Aged 30 to 34 years'] … \n",
      "  elderly 5 → ['Age: Aged 65 to 69 years', 'Age: Aged 70 to 74 years', 'Age: Aged 75 to 79 years'] …\n",
      "✓ age shares saved → census_age_london.csv\n"
     ]
    }
   ],
   "source": [
    "import re\n",
    "import pandas as pd\n",
    "from typing import Optional\n",
    "\n",
    "LOOKUP_CSV = \"london_lsoa_lookup.csv\"\n",
    "AGE_CSV    = \"census2021-ts007a-lsoa-Age by five-year age bands.csv\" \n",
    "\n",
    "london = pd.read_csv(LOOKUP_CSV, dtype=str)[\"LSOA_Code\"]\n",
    "age    = pd.read_csv(AGE_CSV, dtype=str).rename(columns={\"geography code\": \"LSOA_Code\"})\n",
    "age    = age[age[\"LSOA_Code\"].isin(london)].copy()\n",
    "\n",
    "# 1 | identify age-band columns\n",
    "age_band_cols = [c for c in age.columns if c.startswith(\"Age: Aged\")]\n",
    "\n",
    "def band_to_group(col: str) -> Optional[str]:\n",
    "    if \"Aged 4 years and under\" in col:\n",
    "        low = 0\n",
    "    elif \"Aged 85 years and over\" in col:\n",
    "        low = 85\n",
    "    else:\n",
    "        m = re.search(r\"Aged (\\d+) to (\\d+) years\", col)\n",
    "        if not m:\n",
    "            return None\n",
    "        low = int(m.group(1))\n",
    "    if low <= 19:\n",
    "        return \"child\"\n",
    "    elif low <= 64:\n",
    "        return \"adult\"\n",
    "    else:\n",
    "        return \"elderly\"\n",
    "\n",
    "group_map = {col: band_to_group(col) for col in age_band_cols}\n",
    "\n",
    "child_cols   = [c for c, g in group_map.items() if g == \"child\"]\n",
    "adult_cols   = [c for c, g in group_map.items() if g == \"adult\"]\n",
    "elderly_cols = [c for c, g in group_map.items() if g == \"elderly\"]\n",
    "\n",
    "print(\"Found columns:\",\n",
    "      f\"\\n  child   {len(child_cols)} → {child_cols[:3]} …\",\n",
    "      f\"\\n  adult   {len(adult_cols)} → {adult_cols[:3]} …\",\n",
    "      f\"\\n  elderly {len(elderly_cols)} → {elderly_cols[:3]} …\",\n",
    ")\n",
    "\n",
    "# 2 | numeric conversion\n",
    "numeric_cols = child_cols + adult_cols + elderly_cols\n",
    "age[numeric_cols] = age[numeric_cols].astype(float)\n",
    "\n",
    "total_col = [c for c in age.columns if c.startswith(\"Age: Total\")][0]\n",
    "age[total_col] = age[total_col].astype(float)\n",
    "\n",
    "# 3 | share calculation\n",
    "age[\"pct_child\"]   = age[child_cols].sum(axis=1)   / age[total_col]\n",
    "age[\"pct_adult\"]   = age[adult_cols].sum(axis=1)   / age[total_col]\n",
    "age[\"pct_elderly\"] = age[elderly_cols].sum(axis=1) / age[total_col]\n",
    "\n",
    "age_out = \"census_age_london.csv\"\n",
    "age[[\"LSOA_Code\", \"pct_child\", \"pct_adult\", \"pct_elderly\"]].to_csv(age_out, index=False)\n",
    "print(\"✓ age shares saved →\", age_out)"
   ]
  },
  {
   "cell_type": "code",
   "execution_count": 4,
   "id": "b5b30c60-b2a2-4c41-be0d-681f579a49a4",
   "metadata": {},
   "outputs": [
    {
     "name": "stdout",
     "output_type": "stream",
     "text": [
      "✓ population density saved → census_popdensity_london.csv  (4,659 rows)\n"
     ]
    }
   ],
   "source": [
    "LOOKUP_CSV = \"london_lsoa_lookup.csv\"\n",
    "POPD_CSV   = \"census2021-ts006-lsoa-Population density.csv\"\n",
    "\n",
    "# 1 | load lookup\n",
    "london_lsoa = pd.read_csv(LOOKUP_CSV, dtype=str)[\"LSOA_Code\"]\n",
    "\n",
    "# 2 | load population density\n",
    "popd = pd.read_csv(POPD_CSV, dtype=str)\n",
    "\n",
    "# rename key columns\n",
    "popd = popd.rename(columns={\n",
    "    \"geography code\": \"LSOA_Code\",\n",
    "    \"Population Density: Persons per square kilometre; measures: Value\": \"pop_density\"\n",
    "})\n",
    "\n",
    "# 3 | filter to London\n",
    "popd_london = popd[popd[\"LSOA_Code\"].isin(london_lsoa)].copy()\n",
    "\n",
    "# convert density to numeric (optional)\n",
    "popd_london[\"pop_density\"] = popd_london[\"pop_density\"].astype(float)\n",
    "\n",
    "# 4 | save\n",
    "out_file = \"census_popdensity_london.csv\"\n",
    "popd_london[[\"LSOA_Code\", \"pop_density\"]].to_csv(out_file, index=False)\n",
    "\n",
    "print(f\"✓ population density saved → {out_file}  ({len(popd_london):,} rows)\")"
   ]
  },
  {
   "cell_type": "code",
   "execution_count": 5,
   "id": "3809c7ec-bea5-4111-a194-40b772484da1",
   "metadata": {},
   "outputs": [
    {
     "name": "stdout",
     "output_type": "stream",
     "text": [
      "✓ sex shares saved → census_sex_london.csv  (4,659 rows)\n"
     ]
    }
   ],
   "source": [
    "import pandas as pd\n",
    "\n",
    "LOOKUP_CSV = \"london_lsoa_lookup.csv\"\n",
    "SEX_CSV    = \"census2021-ts008-lsoa-sex.csv\"\n",
    "\n",
    "# 1 | lookup\n",
    "london = pd.read_csv(LOOKUP_CSV, dtype=str)[\"LSOA_Code\"]\n",
    "\n",
    "# 2 | load sex table\n",
    "sex = pd.read_csv(SEX_CSV, dtype=str).rename(columns={\n",
    "    \"geography code\": \"LSOA_Code\",\n",
    "    \"Sex: All persons; measures: Value\": \"pop_total\",\n",
    "    \"Sex: Male; measures: Value\": \"pop_male\",\n",
    "    \"Sex: Female; measures: Value\": \"pop_female\",\n",
    "})\n",
    "\n",
    "# 3 | keep London + numeric conversion\n",
    "sex = sex[sex[\"LSOA_Code\"].isin(london)].copy()\n",
    "sex[[\"pop_total\", \"pop_male\", \"pop_female\"]] = sex[[\"pop_total\", \"pop_male\", \"pop_female\"]].astype(float)\n",
    "\n",
    "sex[\"pct_male\"]   = sex[\"pop_male\"]   / sex[\"pop_total\"]\n",
    "\n",
    "# 4 | save\n",
    "out_file = \"census_sex_london.csv\"\n",
    "sex[[\"LSOA_Code\", \"pct_male\"]].to_csv(out_file, index=False)\n",
    "\n",
    "print(f\"✓ sex shares saved → {out_file}  ({len(sex):,} rows)\")"
   ]
  },
  {
   "cell_type": "code",
   "execution_count": 6,
   "id": "8b713fe3-5e89-4c40-987e-9882c4aa934f",
   "metadata": {},
   "outputs": [
    {
     "name": "stdout",
     "output_type": "stream",
     "text": [
      "✓ ethnic‑group shares saved → census_ethnic_london.csv  (4,659 rows)\n"
     ]
    }
   ],
   "source": [
    "LOOKUP_CSV = \"london_lsoa_lookup.csv\"\n",
    "ETHNIC_CSV = \"census2021-ts021-lsoa-Ethnic group.csv\"\n",
    "\n",
    "# 1 | London LSOA list\n",
    "london = pd.read_csv(LOOKUP_CSV, dtype=str)[\"LSOA_Code\"]\n",
    "\n",
    "# 2 | load ethnic table\n",
    "eth = pd.read_csv(ETHNIC_CSV, dtype=str).rename(columns={\n",
    "    \"geography code\": \"LSOA_Code\",\n",
    "    \"Ethnic group: Total: All usual residents\": \"pop_total\",\n",
    "    \"Ethnic group: White\": \"white\",\n",
    "    \"Ethnic group: Black, Black British, Black Welsh, Caribbean or African\": \"black\",\n",
    "    \"Ethnic group: Asian, Asian British or Asian Welsh\": \"asian\",\n",
    "    \"Ethnic group: Mixed or Multiple ethnic groups\": \"mixed\",\n",
    "    \"Ethnic group: Other ethnic group\": \"other\",\n",
    "})\n",
    "\n",
    "# 3 | filter London, numeric conversion\n",
    "eth = eth[eth[\"LSOA_Code\"].isin(london)].copy()\n",
    "cols = [\"pop_total\", \"white\", \"black\", \"asian\", \"mixed\", \"other\"]\n",
    "eth[cols] = eth[cols].astype(float)\n",
    "\n",
    "# 4 | share calculation\n",
    "eth[\"pct_white\"] = eth[\"white\"] / eth[\"pop_total\"]\n",
    "eth[\"pct_black\"] = eth[\"black\"] / eth[\"pop_total\"]\n",
    "eth[\"pct_asian\"] = eth[\"asian\"] / eth[\"pop_total\"]\n",
    "eth[\"pct_mixed\"] = eth[\"mixed\"] / eth[\"pop_total\"]\n",
    "eth[\"pct_other\"] = eth[\"other\"] / eth[\"pop_total\"]\n",
    "\n",
    "out_file = \"census_ethnic_london.csv\"\n",
    "eth[[\"LSOA_Code\",\n",
    "     \"pct_white\",\"pct_black\",\"pct_asian\",\"pct_mixed\",\"pct_other\"]\n",
    "   ].to_csv(out_file, index=False)\n",
    "\n",
    "print(f\"✓ ethnic‑group shares saved → {out_file}  ({len(eth):,} rows)\")"
   ]
  },
  {
   "cell_type": "code",
   "execution_count": 7,
   "id": "3259ff2d-1839-4024-a577-283a12dada92",
   "metadata": {},
   "outputs": [
    {
     "name": "stdout",
     "output_type": "stream",
     "text": [
      "✓ IMD features saved → imd_london.csv  (4,835 rows)\n"
     ]
    }
   ],
   "source": [
    "IMD_CSV = \"IMD2019.csv\"\n",
    "\n",
    "# ------------ 1 | load IMD ---------------------\n",
    "imd = pd.read_csv(IMD_CSV, dtype=str)\n",
    "\n",
    "lsoa_col = \"LSOA code (2011)\"\n",
    "lad_col  = \"Local Authority District code (2019)\"\n",
    "\n",
    "# ------------ 2 | filter London ----------------\n",
    "london_lad_codes = [f\"E090000{str(i).zfill(2)}\" for i in range(1, 34)]\n",
    "imd = imd[imd[lad_col].isin(london_lad_codes)].copy()\n",
    "\n",
    "# ------------ 3 | select rank columns ----------\n",
    "rank_map = {\n",
    "    \"income_rank\":     \"Income Rank (where 1 is most deprived)\",\n",
    "    \"employment_rank\": \"Employment Rank (where 1 is most deprived)\",\n",
    "    \"education_rank\":  \"Education, Skills and Training Rank (where 1 is most deprived)\",\n",
    "    \"health_rank\":     \"Health Deprivation and Disability Rank (where 1 is most deprived)\",\n",
    "    \"barriers_rank\":   \"Barriers to Housing and Services Rank (where 1 is most deprived)\",\n",
    "    \"livingenv_rank\":  \"Living Environment Rank (where 1 is most deprived)\",\n",
    "}\n",
    "\n",
    "imd_sub = imd[[lsoa_col, *rank_map.values()]].rename(columns={lsoa_col: \"LSOA_Code\", **{\n",
    "    v: k for k, v in rank_map.items()\n",
    "}})\n",
    "\n",
    "# convert to int\n",
    "for c in rank_map.keys():\n",
    "    imd_sub[c] = imd_sub[c].astype(int)\n",
    "\n",
    "max_rank = imd_sub[\"income_rank\"].max()   # 32 844 for England\n",
    "\n",
    "# ------------ 4 | rank → percentile ------------\n",
    "for dom in [\"income\", \"employment\", \"education\", \"health\", \"barriers\", \"livingenv\"]:\n",
    "    imd_sub[f\"{dom}_pct\"] = 1 - (imd_sub[f\"{dom}_rank\"] - 1) / (max_rank - 1)\n",
    "\n",
    "# keep only percentile columns\n",
    "keep_cols = [\"LSOA_Code\"] + [f\"{d}_pct\" for d in [\"income\",\"employment\",\"education\",\"health\",\"barriers\",\"livingenv\"]]\n",
    "imd_out = \"imd_london.csv\"\n",
    "imd_sub[keep_cols].to_csv(imd_out, index=False)\n",
    "\n",
    "print(f\"✓ IMD features saved → {imd_out}  ({imd_sub.shape[0]:,} rows)\")"
   ]
  },
  {
   "cell_type": "code",
   "execution_count": 8,
   "id": "69111991-1202-4c51-b782-2f69bf0e4aad",
   "metadata": {},
   "outputs": [
    {
     "name": "stdout",
     "output_type": "stream",
     "text": [
      "Static feature matrix saved → feature_static_london.csv   (4,659 rows × 17 cols)\n"
     ]
    }
   ],
   "source": [
    "import pandas as pd\n",
    "\n",
    "static = (\n",
    "    pd.read_csv(\"census_age_london.csv\")\n",
    "      .merge(pd.read_csv(\"census_popdensity_london.csv\"), on=\"LSOA_Code\")\n",
    "      .merge(pd.read_csv(\"census_sex_london.csv\"),        on=\"LSOA_Code\")\n",
    "      .merge(pd.read_csv(\"census_ethnic_london.csv\"),     on=\"LSOA_Code\")\n",
    "      .merge(pd.read_csv(\"imd_london.csv\"),               on=\"LSOA_Code\")\n",
    ")\n",
    "\n",
    "static.to_csv(\"feature_static_london.csv\", index=False)\n",
    "print(\"Static feature matrix saved → feature_static_london.csv  \",\n",
    "      f\"({static.shape[0]:,} rows × {static.shape[1]} cols)\")"
   ]
  },
  {
   "cell_type": "code",
   "execution_count": null,
   "id": "091e679d-0ed5-40de-b0e9-f3d4dd05f6c3",
   "metadata": {},
   "outputs": [],
   "source": []
  }
 ],
 "metadata": {
  "kernelspec": {
   "display_name": "Python (nda)",
   "language": "python",
   "name": "nda"
  },
  "language_info": {
   "codemirror_mode": {
    "name": "ipython",
    "version": 3
   },
   "file_extension": ".py",
   "mimetype": "text/x-python",
   "name": "python",
   "nbconvert_exporter": "python",
   "pygments_lexer": "ipython3",
   "version": "3.9.21"
  }
 },
 "nbformat": 4,
 "nbformat_minor": 5
}
