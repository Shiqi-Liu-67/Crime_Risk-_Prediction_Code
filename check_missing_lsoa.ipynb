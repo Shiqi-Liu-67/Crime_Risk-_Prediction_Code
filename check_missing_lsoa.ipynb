{
 "cells": [
  {
   "cell_type": "code",
   "execution_count": 1,
   "id": "82e6fdfd-663f-4ab1-bc18-acac9b4d02da",
   "metadata": {},
   "outputs": [],
   "source": [
    "# check_missing_lsoa.py"
   ]
  },
  {
   "cell_type": "code",
   "execution_count": 2,
   "id": "60180d06-4816-4ca7-bd4b-2cceb32d185f",
   "metadata": {},
   "outputs": [
    {
     "name": "stdout",
     "output_type": "stream",
     "text": [
      "IMD LSOA: 4835\n",
      "Static LSOA: 4659\n",
      "Crime LSOA: 4653\n",
      "Missing in static (vs IMD): 176\n",
      "Missing in crime  (vs IMD): 182\n",
      "Examples missing in static: ['E01004689', 'E01000940', 'E01003475', 'E01033085', 'E01032778', 'E01032766', 'E01001874', 'E01033725', 'E01002406', 'E01033585']\n",
      "Examples missing in crime : ['E01004689', 'E01000940', 'E01003475', 'E01033085', 'E01032778', 'E01032766', 'E01001874', 'E01033725', 'E01002406', 'E01033585']\n"
     ]
    }
   ],
   "source": [
    "import pandas as pd\n",
    "\n",
    "lsoa_imd = set(pd.read_csv(\"imd_london.csv\")[\"LSOA_Code\"])\n",
    "lsoa_static = set(pd.read_csv(\"feature_static_london.csv\")[\"LSOA_Code\"])\n",
    "lsoa_crime = set(pd.read_csv(\"crime_rolling6m.csv\")[\"LSOA_Code\"])  # or monthly_wide\n",
    "\n",
    "print(\"IMD LSOA:\", len(lsoa_imd))\n",
    "print(\"Static LSOA:\", len(lsoa_static))\n",
    "print(\"Crime LSOA:\", len(lsoa_crime))\n",
    "\n",
    "print(\"Missing in static (vs IMD):\", len(lsoa_imd - lsoa_static))\n",
    "print(\"Missing in crime  (vs IMD):\", len(lsoa_imd - lsoa_crime))\n",
    "\n",
    "# list a few codes to inspect\n",
    "print(\"Examples missing in static:\", list(lsoa_imd - lsoa_static)[:10])\n",
    "print(\"Examples missing in crime :\", list(lsoa_imd - lsoa_crime)[:10])"
   ]
  },
  {
   "cell_type": "code",
   "execution_count": 3,
   "id": "59bc6e17-e0fc-43dd-a628-970ce28fc035",
   "metadata": {},
   "outputs": [
    {
     "name": "stdout",
     "output_type": "stream",
     "text": [
      "Top boroughs with static missing:\n",
      "LAD_Name\n",
      "Tower Hamlets    25\n",
      "Westminster      13\n",
      "Greenwich        12\n",
      "Newham           12\n",
      "Southwark        12\n",
      "Camden            9\n",
      "Hackney           8\n",
      "Hillingdon        8\n",
      "Hounslow          7\n",
      "Brent             6\n",
      "Name: count, dtype: int64\n",
      "\n",
      "Top boroughs with crime missing:\n",
      "LAD_Name\n",
      "Tower Hamlets           25\n",
      "Westminster             13\n",
      "Greenwich               12\n",
      "Southwark               12\n",
      "Newham                  12\n",
      "Camden                   9\n",
      "Hackney                  8\n",
      "Hillingdon               8\n",
      "Hounslow                 7\n",
      "Barking and Dagenham     6\n",
      "Name: count, dtype: int64\n"
     ]
    }
   ],
   "source": [
    "import pandas as pd\n",
    "\n",
    "lsoa_imd = set(pd.read_csv(\"imd_london.csv\", dtype=str)[\"LSOA_Code\"])\n",
    "lsoa_static = set(pd.read_csv(\"feature_static_london.csv\", dtype=str)[\"LSOA_Code\"])\n",
    "lsoa_crime = set(pd.read_csv(\"crime_rolling6m.csv\", dtype=str)[\"LSOA_Code\"])  # or monthly\n",
    "\n",
    "# Map LSOA -> Borough using IMD\n",
    "imd_raw = pd.read_csv(\"IMD2019.csv\", dtype=str)\n",
    "imd_map = imd_raw.rename(columns={\n",
    "    \"LSOA code (2011)\": \"LSOA_Code\",\n",
    "    \"Local Authority District name (2019)\": \"LAD_Name\"\n",
    "})[[\"LSOA_Code\",\"LAD_Name\"]]\n",
    "\n",
    "missing_static = imd_map[imd_map[\"LSOA_Code\"].isin(lsoa_imd - lsoa_static)]\n",
    "missing_crime  = imd_map[imd_map[\"LSOA_Code\"].isin(lsoa_imd - lsoa_crime)]\n",
    "\n",
    "print(\"Top boroughs with static missing:\")\n",
    "print(missing_static[\"LAD_Name\"].value_counts().head(10))\n",
    "\n",
    "print(\"\\nTop boroughs with crime missing:\")\n",
    "print(missing_crime[\"LAD_Name\"].value_counts().head(10))\n"
   ]
  },
  {
   "cell_type": "code",
   "execution_count": 4,
   "id": "dea4eebe-4869-49d2-8424-ba2564cfc903",
   "metadata": {},
   "outputs": [
    {
     "name": "stdout",
     "output_type": "stream",
     "text": [
      "LSOA in IMD but absent previously, present now: 0\n"
     ]
    }
   ],
   "source": [
    "import pandas as pd\n",
    "import numpy as np\n",
    "\n",
    "# read the wide original once more and DO NOT drop zeros when melting\n",
    "wide = pd.read_csv(\"MPS LSOA Level Crime_2010.4.1_2023.3.31.csv\", low_memory=False)\n",
    "wide.columns = wide.columns.str.strip().str.replace(\" \",\"_\")\n",
    "\n",
    "id_cols = [\"LSOA_Code\",\"LSOA_Name\",\"Borough\",\"Major_Category\",\"Minor_Category\"]\n",
    "month_cols = [c for c in wide.columns if c.isdigit() and len(c)==6]\n",
    "\n",
    "# melt without dropping zeros\n",
    "long_all = wide.melt(id_vars=id_cols, value_vars=month_cols,\n",
    "                     var_name=\"yyyymm\", value_name=\"crime_cnt\")\n",
    "long_all[\"date\"] = pd.to_datetime(long_all[\"yyyymm\"]+\"01\", format=\"%Y%m%d\")\n",
    "long_all[\"crime_cnt\"] = long_all[\"crime_cnt\"].fillna(0).astype(\"int32\")\n",
    "\n",
    "# keep only London LSOA (lookup you already have)\n",
    "london = set(pd.read_csv(\"london_lsoa_lookup.csv\", dtype=str)[\"LSOA_Code\"])\n",
    "long_all = long_all[long_all[\"LSOA_Code\"].isin(london)]\n",
    "\n",
    "# if some LSOA now appear (but were missing before), they were \"all-zero\" areas\n",
    "print(\"LSOA in IMD but absent previously, present now:\",\n",
    "      len((lsoa_imd - lsoa_crime) & set(long_all[\"LSOA_Code\"])))"
   ]
  },
  {
   "cell_type": "code",
   "execution_count": null,
   "id": "3c791424-f465-4338-8815-b8cc838bf751",
   "metadata": {},
   "outputs": [],
   "source": []
  }
 ],
 "metadata": {
  "kernelspec": {
   "display_name": "Python (nda)",
   "language": "python",
   "name": "nda"
  },
  "language_info": {
   "codemirror_mode": {
    "name": "ipython",
    "version": 3
   },
   "file_extension": ".py",
   "mimetype": "text/x-python",
   "name": "python",
   "nbconvert_exporter": "python",
   "pygments_lexer": "ipython3",
   "version": "3.9.21"
  }
 },
 "nbformat": 4,
 "nbformat_minor": 5
}
